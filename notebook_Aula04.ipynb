{
 "cells": [
  {
   "cell_type": "markdown",
   "id": "d4be88b4",
   "metadata": {},
   "source": [
    "# Cálculo de Energia Livre usando VASP e ASE\n",
    "\n",
    "Autor: [Prof. Elvis do A. Soares](https://github.com/elvissoares) \n",
    "\n",
    "Contato: [elvis@peq.coppe.ufrj.br](mailto:elvis@peq.coppe.ufrj.br) - [Programa de Engenharia Química, PEQ/COPPE, UFRJ, Brasil](https://www.peq.coppe.ufrj.br/)\n",
    "\n",
    "---"
   ]
  },
  {
   "cell_type": "code",
   "execution_count": null,
   "id": "94569565",
   "metadata": {},
   "outputs": [
    {
     "name": "stdout",
     "output_type": "stream",
     "text": [
      "Collecting nglview\n",
      "  Downloading nglview-4.0.tar.gz (26.2 MB)\n",
      "\u001b[2K     \u001b[90m━━━━━━━━━━━━━━━━━━━━━━━━━━━━━━━━━━━━━━━━\u001b[0m \u001b[32m26.2/26.2 MB\u001b[0m \u001b[31m7.3 MB/s\u001b[0m  \u001b[33m0:00:03\u001b[0mm0:00:01\u001b[0m00:01\u001b[0m\n",
      "\u001b[?25h  Installing build dependencies ... \u001b[?25ldone\n",
      "\u001b[?25h  Getting requirements to build wheel ... \u001b[?25ldone\n",
      "\u001b[?25h  Installing backend dependencies ... \u001b[?25ldone\n",
      "\u001b[?25h  Preparing metadata (pyproject.toml) ... \u001b[?25ldone\n",
      "\u001b[?25hCollecting ipywidgets>=8 (from nglview)\n",
      "  Downloading ipywidgets-8.1.7-py3-none-any.whl.metadata (2.4 kB)\n",
      "Collecting notebook>=7 (from nglview)\n",
      "  Downloading notebook-7.4.7-py3-none-any.whl.metadata (10 kB)\n",
      "Collecting jupyterlab>=3 (from nglview)\n",
      "  Downloading jupyterlab-4.4.9-py3-none-any.whl.metadata (16 kB)\n",
      "Collecting jupyterlab_widgets (from nglview)\n",
      "  Downloading jupyterlab_widgets-3.0.15-py3-none-any.whl.metadata (20 kB)\n",
      "Collecting numpy<2.3 (from nglview)\n",
      "  Downloading numpy-2.2.6-cp313-cp313-manylinux_2_17_x86_64.manylinux2014_x86_64.whl.metadata (62 kB)\n",
      "Requirement already satisfied: comm>=0.1.3 in /home/marvin/miniforge3/envs/trabalho_disciplina/lib/python3.13/site-packages (from ipywidgets>=8->nglview) (0.2.3)\n",
      "Requirement already satisfied: ipython>=6.1.0 in /home/marvin/miniforge3/envs/trabalho_disciplina/lib/python3.13/site-packages (from ipywidgets>=8->nglview) (9.4.0)\n",
      "Requirement already satisfied: traitlets>=4.3.1 in /home/marvin/miniforge3/envs/trabalho_disciplina/lib/python3.13/site-packages (from ipywidgets>=8->nglview) (5.14.3)\n",
      "Collecting widgetsnbextension~=4.0.14 (from ipywidgets>=8->nglview)\n",
      "  Downloading widgetsnbextension-4.0.14-py3-none-any.whl.metadata (1.6 kB)\n",
      "Requirement already satisfied: decorator in /home/marvin/miniforge3/envs/trabalho_disciplina/lib/python3.13/site-packages (from ipython>=6.1.0->ipywidgets>=8->nglview) (5.2.1)\n",
      "Requirement already satisfied: ipython-pygments-lexers in /home/marvin/miniforge3/envs/trabalho_disciplina/lib/python3.13/site-packages (from ipython>=6.1.0->ipywidgets>=8->nglview) (1.1.1)\n",
      "Requirement already satisfied: jedi>=0.16 in /home/marvin/miniforge3/envs/trabalho_disciplina/lib/python3.13/site-packages (from ipython>=6.1.0->ipywidgets>=8->nglview) (0.19.2)\n",
      "Requirement already satisfied: matplotlib-inline in /home/marvin/miniforge3/envs/trabalho_disciplina/lib/python3.13/site-packages (from ipython>=6.1.0->ipywidgets>=8->nglview) (0.1.7)\n",
      "Requirement already satisfied: pexpect>4.3 in /home/marvin/miniforge3/envs/trabalho_disciplina/lib/python3.13/site-packages (from ipython>=6.1.0->ipywidgets>=8->nglview) (4.9.0)\n",
      "Requirement already satisfied: prompt_toolkit<3.1.0,>=3.0.41 in /home/marvin/miniforge3/envs/trabalho_disciplina/lib/python3.13/site-packages (from ipython>=6.1.0->ipywidgets>=8->nglview) (3.0.52)\n",
      "Requirement already satisfied: pygments>=2.4.0 in /home/marvin/miniforge3/envs/trabalho_disciplina/lib/python3.13/site-packages (from ipython>=6.1.0->ipywidgets>=8->nglview) (2.19.2)\n",
      "Requirement already satisfied: stack_data in /home/marvin/miniforge3/envs/trabalho_disciplina/lib/python3.13/site-packages (from ipython>=6.1.0->ipywidgets>=8->nglview) (0.6.3)\n",
      "Requirement already satisfied: wcwidth in /home/marvin/miniforge3/envs/trabalho_disciplina/lib/python3.13/site-packages (from prompt_toolkit<3.1.0,>=3.0.41->ipython>=6.1.0->ipywidgets>=8->nglview) (0.2.13)\n",
      "Requirement already satisfied: parso<0.9.0,>=0.8.4 in /home/marvin/miniforge3/envs/trabalho_disciplina/lib/python3.13/site-packages (from jedi>=0.16->ipython>=6.1.0->ipywidgets>=8->nglview) (0.8.5)\n",
      "Collecting async-lru>=1.0.0 (from jupyterlab>=3->nglview)\n",
      "  Downloading async_lru-2.0.5-py3-none-any.whl.metadata (4.5 kB)\n",
      "Collecting httpx<1,>=0.25.0 (from jupyterlab>=3->nglview)\n",
      "  Downloading httpx-0.28.1-py3-none-any.whl.metadata (7.1 kB)\n",
      "Requirement already satisfied: ipykernel!=6.30.0,>=6.5.0 in /home/marvin/miniforge3/envs/trabalho_disciplina/lib/python3.13/site-packages (from jupyterlab>=3->nglview) (6.30.1)\n",
      "Collecting jinja2>=3.0.3 (from jupyterlab>=3->nglview)\n",
      "  Downloading jinja2-3.1.6-py3-none-any.whl.metadata (2.9 kB)\n",
      "Requirement already satisfied: jupyter-core in /home/marvin/miniforge3/envs/trabalho_disciplina/lib/python3.13/site-packages (from jupyterlab>=3->nglview) (5.8.1)\n",
      "Collecting jupyter-lsp>=2.0.0 (from jupyterlab>=3->nglview)\n",
      "  Downloading jupyter_lsp-2.3.0-py3-none-any.whl.metadata (1.8 kB)\n",
      "Collecting jupyter-server<3,>=2.4.0 (from jupyterlab>=3->nglview)\n",
      "  Downloading jupyter_server-2.17.0-py3-none-any.whl.metadata (8.5 kB)\n",
      "Collecting jupyterlab-server<3,>=2.27.1 (from jupyterlab>=3->nglview)\n",
      "  Downloading jupyterlab_server-2.27.3-py3-none-any.whl.metadata (5.9 kB)\n",
      "Collecting notebook-shim>=0.2 (from jupyterlab>=3->nglview)\n",
      "  Downloading notebook_shim-0.2.4-py3-none-any.whl.metadata (4.0 kB)\n",
      "Requirement already satisfied: packaging in /home/marvin/miniforge3/envs/trabalho_disciplina/lib/python3.13/site-packages (from jupyterlab>=3->nglview) (25.0)\n",
      "Collecting setuptools>=41.1.0 (from jupyterlab>=3->nglview)\n",
      "  Using cached setuptools-80.9.0-py3-none-any.whl.metadata (6.6 kB)\n",
      "Requirement already satisfied: tornado>=6.2.0 in /home/marvin/miniforge3/envs/trabalho_disciplina/lib/python3.13/site-packages (from jupyterlab>=3->nglview) (6.5.2)\n",
      "Collecting anyio (from httpx<1,>=0.25.0->jupyterlab>=3->nglview)\n",
      "  Downloading anyio-4.11.0-py3-none-any.whl.metadata (4.1 kB)\n",
      "Requirement already satisfied: certifi in /home/marvin/miniforge3/envs/trabalho_disciplina/lib/python3.13/site-packages (from httpx<1,>=0.25.0->jupyterlab>=3->nglview) (2025.8.3)\n",
      "Collecting httpcore==1.* (from httpx<1,>=0.25.0->jupyterlab>=3->nglview)\n",
      "  Downloading httpcore-1.0.9-py3-none-any.whl.metadata (21 kB)\n",
      "Requirement already satisfied: idna in /home/marvin/miniforge3/envs/trabalho_disciplina/lib/python3.13/site-packages (from httpx<1,>=0.25.0->jupyterlab>=3->nglview) (3.10)\n",
      "Collecting h11>=0.16 (from httpcore==1.*->httpx<1,>=0.25.0->jupyterlab>=3->nglview)\n",
      "  Downloading h11-0.16.0-py3-none-any.whl.metadata (8.3 kB)\n",
      "Collecting argon2-cffi>=21.1 (from jupyter-server<3,>=2.4.0->jupyterlab>=3->nglview)\n",
      "  Downloading argon2_cffi-25.1.0-py3-none-any.whl.metadata (4.1 kB)\n",
      "Requirement already satisfied: jupyter-client>=7.4.4 in /home/marvin/miniforge3/envs/trabalho_disciplina/lib/python3.13/site-packages (from jupyter-server<3,>=2.4.0->jupyterlab>=3->nglview) (8.6.3)\n",
      "Collecting jupyter-events>=0.11.0 (from jupyter-server<3,>=2.4.0->jupyterlab>=3->nglview)\n",
      "  Downloading jupyter_events-0.12.0-py3-none-any.whl.metadata (5.8 kB)\n",
      "Collecting jupyter-server-terminals>=0.4.4 (from jupyter-server<3,>=2.4.0->jupyterlab>=3->nglview)\n",
      "  Downloading jupyter_server_terminals-0.5.3-py3-none-any.whl.metadata (5.6 kB)\n",
      "Collecting nbconvert>=6.4.4 (from jupyter-server<3,>=2.4.0->jupyterlab>=3->nglview)\n",
      "  Downloading nbconvert-7.16.6-py3-none-any.whl.metadata (8.5 kB)\n",
      "Collecting nbformat>=5.3.0 (from jupyter-server<3,>=2.4.0->jupyterlab>=3->nglview)\n",
      "  Downloading nbformat-5.10.4-py3-none-any.whl.metadata (3.6 kB)\n",
      "Collecting prometheus-client>=0.9 (from jupyter-server<3,>=2.4.0->jupyterlab>=3->nglview)\n",
      "  Downloading prometheus_client-0.23.1-py3-none-any.whl.metadata (1.9 kB)\n",
      "Requirement already satisfied: pyzmq>=24 in /home/marvin/miniforge3/envs/trabalho_disciplina/lib/python3.13/site-packages (from jupyter-server<3,>=2.4.0->jupyterlab>=3->nglview) (27.0.2)\n",
      "Collecting send2trash>=1.8.2 (from jupyter-server<3,>=2.4.0->jupyterlab>=3->nglview)\n",
      "  Downloading Send2Trash-1.8.3-py3-none-any.whl.metadata (4.0 kB)\n",
      "Collecting terminado>=0.8.3 (from jupyter-server<3,>=2.4.0->jupyterlab>=3->nglview)\n",
      "  Downloading terminado-0.18.1-py3-none-any.whl.metadata (5.8 kB)\n",
      "Collecting websocket-client>=1.7 (from jupyter-server<3,>=2.4.0->jupyterlab>=3->nglview)\n",
      "  Downloading websocket_client-1.9.0-py3-none-any.whl.metadata (8.3 kB)\n",
      "Collecting babel>=2.10 (from jupyterlab-server<3,>=2.27.1->jupyterlab>=3->nglview)\n",
      "  Downloading babel-2.17.0-py3-none-any.whl.metadata (2.0 kB)\n",
      "Collecting json5>=0.9.0 (from jupyterlab-server<3,>=2.27.1->jupyterlab>=3->nglview)\n",
      "  Downloading json5-0.12.1-py3-none-any.whl.metadata (36 kB)\n",
      "Collecting jsonschema>=4.18.0 (from jupyterlab-server<3,>=2.27.1->jupyterlab>=3->nglview)\n",
      "  Downloading jsonschema-4.25.1-py3-none-any.whl.metadata (7.6 kB)\n",
      "Requirement already satisfied: requests>=2.31 in /home/marvin/miniforge3/envs/trabalho_disciplina/lib/python3.13/site-packages (from jupyterlab-server<3,>=2.27.1->jupyterlab>=3->nglview) (2.32.5)\n",
      "Collecting sniffio>=1.1 (from anyio->httpx<1,>=0.25.0->jupyterlab>=3->nglview)\n",
      "  Downloading sniffio-1.3.1-py3-none-any.whl.metadata (3.9 kB)\n",
      "Collecting argon2-cffi-bindings (from argon2-cffi>=21.1->jupyter-server<3,>=2.4.0->jupyterlab>=3->nglview)\n",
      "  Downloading argon2_cffi_bindings-25.1.0-cp39-abi3-manylinux_2_26_x86_64.manylinux_2_28_x86_64.whl.metadata (7.4 kB)\n",
      "Requirement already satisfied: debugpy>=1.6.5 in /home/marvin/miniforge3/envs/trabalho_disciplina/lib/python3.13/site-packages (from ipykernel!=6.30.0,>=6.5.0->jupyterlab>=3->nglview) (1.8.16)\n",
      "Requirement already satisfied: nest-asyncio>=1.4 in /home/marvin/miniforge3/envs/trabalho_disciplina/lib/python3.13/site-packages (from ipykernel!=6.30.0,>=6.5.0->jupyterlab>=3->nglview) (1.6.0)\n",
      "Requirement already satisfied: psutil>=5.7 in /home/marvin/miniforge3/envs/trabalho_disciplina/lib/python3.13/site-packages (from ipykernel!=6.30.0,>=6.5.0->jupyterlab>=3->nglview) (7.0.0)\n",
      "Collecting MarkupSafe>=2.0 (from jinja2>=3.0.3->jupyterlab>=3->nglview)\n",
      "  Downloading markupsafe-3.0.3-cp313-cp313-manylinux2014_x86_64.manylinux_2_17_x86_64.manylinux_2_28_x86_64.whl.metadata (2.7 kB)\n",
      "Collecting attrs>=22.2.0 (from jsonschema>=4.18.0->jupyterlab-server<3,>=2.27.1->jupyterlab>=3->nglview)\n",
      "  Downloading attrs-25.4.0-py3-none-any.whl.metadata (10 kB)\n",
      "Collecting jsonschema-specifications>=2023.03.6 (from jsonschema>=4.18.0->jupyterlab-server<3,>=2.27.1->jupyterlab>=3->nglview)\n",
      "  Downloading jsonschema_specifications-2025.9.1-py3-none-any.whl.metadata (2.9 kB)\n",
      "Collecting referencing>=0.28.4 (from jsonschema>=4.18.0->jupyterlab-server<3,>=2.27.1->jupyterlab>=3->nglview)\n",
      "  Downloading referencing-0.37.0-py3-none-any.whl.metadata (2.8 kB)\n",
      "Collecting rpds-py>=0.7.1 (from jsonschema>=4.18.0->jupyterlab-server<3,>=2.27.1->jupyterlab>=3->nglview)\n",
      "  Downloading rpds_py-0.27.1-cp313-cp313-manylinux_2_17_x86_64.manylinux2014_x86_64.whl.metadata (4.2 kB)\n",
      "Requirement already satisfied: python-dateutil>=2.8.2 in /home/marvin/miniforge3/envs/trabalho_disciplina/lib/python3.13/site-packages (from jupyter-client>=7.4.4->jupyter-server<3,>=2.4.0->jupyterlab>=3->nglview) (2.9.0.post0)\n",
      "Requirement already satisfied: platformdirs>=2.5 in /home/marvin/miniforge3/envs/trabalho_disciplina/lib/python3.13/site-packages (from jupyter-core->jupyterlab>=3->nglview) (4.4.0)\n",
      "Collecting python-json-logger>=2.0.4 (from jupyter-events>=0.11.0->jupyter-server<3,>=2.4.0->jupyterlab>=3->nglview)\n",
      "  Downloading python_json_logger-4.0.0-py3-none-any.whl.metadata (4.0 kB)\n",
      "Requirement already satisfied: pyyaml>=5.3 in /home/marvin/miniforge3/envs/trabalho_disciplina/lib/python3.13/site-packages (from jupyter-events>=0.11.0->jupyter-server<3,>=2.4.0->jupyterlab>=3->nglview) (6.0.2)\n",
      "Collecting rfc3339-validator (from jupyter-events>=0.11.0->jupyter-server<3,>=2.4.0->jupyterlab>=3->nglview)\n",
      "  Downloading rfc3339_validator-0.1.4-py2.py3-none-any.whl.metadata (1.5 kB)\n",
      "Collecting rfc3986-validator>=0.1.1 (from jupyter-events>=0.11.0->jupyter-server<3,>=2.4.0->jupyterlab>=3->nglview)\n",
      "  Downloading rfc3986_validator-0.1.1-py2.py3-none-any.whl.metadata (1.7 kB)\n",
      "Collecting fqdn (from jsonschema[format-nongpl]>=4.18.0->jupyter-events>=0.11.0->jupyter-server<3,>=2.4.0->jupyterlab>=3->nglview)\n",
      "  Downloading fqdn-1.5.1-py3-none-any.whl.metadata (1.4 kB)\n",
      "Collecting isoduration (from jsonschema[format-nongpl]>=4.18.0->jupyter-events>=0.11.0->jupyter-server<3,>=2.4.0->jupyterlab>=3->nglview)\n",
      "  Downloading isoduration-20.11.0-py3-none-any.whl.metadata (5.7 kB)\n",
      "Collecting jsonpointer>1.13 (from jsonschema[format-nongpl]>=4.18.0->jupyter-events>=0.11.0->jupyter-server<3,>=2.4.0->jupyterlab>=3->nglview)\n",
      "  Downloading jsonpointer-3.0.0-py2.py3-none-any.whl.metadata (2.3 kB)\n",
      "Collecting rfc3987-syntax>=1.1.0 (from jsonschema[format-nongpl]>=4.18.0->jupyter-events>=0.11.0->jupyter-server<3,>=2.4.0->jupyterlab>=3->nglview)\n",
      "  Downloading rfc3987_syntax-1.1.0-py3-none-any.whl.metadata (7.7 kB)\n",
      "Collecting uri-template (from jsonschema[format-nongpl]>=4.18.0->jupyter-events>=0.11.0->jupyter-server<3,>=2.4.0->jupyterlab>=3->nglview)\n",
      "  Downloading uri_template-1.3.0-py3-none-any.whl.metadata (8.8 kB)\n",
      "Collecting webcolors>=24.6.0 (from jsonschema[format-nongpl]>=4.18.0->jupyter-events>=0.11.0->jupyter-server<3,>=2.4.0->jupyterlab>=3->nglview)\n",
      "  Downloading webcolors-24.11.1-py3-none-any.whl.metadata (2.2 kB)\n",
      "Collecting beautifulsoup4 (from nbconvert>=6.4.4->jupyter-server<3,>=2.4.0->jupyterlab>=3->nglview)\n",
      "  Downloading beautifulsoup4-4.14.2-py3-none-any.whl.metadata (3.8 kB)\n",
      "Collecting bleach!=5.0.0 (from bleach[css]!=5.0.0->nbconvert>=6.4.4->jupyter-server<3,>=2.4.0->jupyterlab>=3->nglview)\n",
      "  Downloading bleach-6.2.0-py3-none-any.whl.metadata (30 kB)\n",
      "Collecting defusedxml (from nbconvert>=6.4.4->jupyter-server<3,>=2.4.0->jupyterlab>=3->nglview)\n",
      "  Downloading defusedxml-0.7.1-py2.py3-none-any.whl.metadata (32 kB)\n",
      "Collecting jupyterlab-pygments (from nbconvert>=6.4.4->jupyter-server<3,>=2.4.0->jupyterlab>=3->nglview)\n",
      "  Downloading jupyterlab_pygments-0.3.0-py3-none-any.whl.metadata (4.4 kB)\n",
      "Collecting mistune<4,>=2.0.3 (from nbconvert>=6.4.4->jupyter-server<3,>=2.4.0->jupyterlab>=3->nglview)\n",
      "  Downloading mistune-3.1.4-py3-none-any.whl.metadata (1.8 kB)\n",
      "Collecting nbclient>=0.5.0 (from nbconvert>=6.4.4->jupyter-server<3,>=2.4.0->jupyterlab>=3->nglview)\n",
      "  Downloading nbclient-0.10.2-py3-none-any.whl.metadata (8.3 kB)\n",
      "Collecting pandocfilters>=1.4.1 (from nbconvert>=6.4.4->jupyter-server<3,>=2.4.0->jupyterlab>=3->nglview)\n",
      "  Downloading pandocfilters-1.5.1-py2.py3-none-any.whl.metadata (9.0 kB)\n",
      "Collecting webencodings (from bleach!=5.0.0->bleach[css]!=5.0.0->nbconvert>=6.4.4->jupyter-server<3,>=2.4.0->jupyterlab>=3->nglview)\n",
      "  Downloading webencodings-0.5.1-py2.py3-none-any.whl.metadata (2.1 kB)\n",
      "Collecting tinycss2<1.5,>=1.1.0 (from bleach[css]!=5.0.0->nbconvert>=6.4.4->jupyter-server<3,>=2.4.0->jupyterlab>=3->nglview)\n",
      "  Downloading tinycss2-1.4.0-py3-none-any.whl.metadata (3.0 kB)\n",
      "Collecting fastjsonschema>=2.15 (from nbformat>=5.3.0->jupyter-server<3,>=2.4.0->jupyterlab>=3->nglview)\n",
      "  Downloading fastjsonschema-2.21.2-py3-none-any.whl.metadata (2.3 kB)\n",
      "Requirement already satisfied: ptyprocess>=0.5 in /home/marvin/miniforge3/envs/trabalho_disciplina/lib/python3.13/site-packages (from pexpect>4.3->ipython>=6.1.0->ipywidgets>=8->nglview) (0.7.0)\n",
      "Requirement already satisfied: six>=1.5 in /home/marvin/miniforge3/envs/trabalho_disciplina/lib/python3.13/site-packages (from python-dateutil>=2.8.2->jupyter-client>=7.4.4->jupyter-server<3,>=2.4.0->jupyterlab>=3->nglview) (1.17.0)\n",
      "Requirement already satisfied: charset_normalizer<4,>=2 in /home/marvin/miniforge3/envs/trabalho_disciplina/lib/python3.13/site-packages (from requests>=2.31->jupyterlab-server<3,>=2.27.1->jupyterlab>=3->nglview) (3.4.3)\n",
      "Requirement already satisfied: urllib3<3,>=1.21.1 in /home/marvin/miniforge3/envs/trabalho_disciplina/lib/python3.13/site-packages (from requests>=2.31->jupyterlab-server<3,>=2.27.1->jupyterlab>=3->nglview) (2.5.0)\n",
      "Collecting lark>=1.2.2 (from rfc3987-syntax>=1.1.0->jsonschema[format-nongpl]>=4.18.0->jupyter-events>=0.11.0->jupyter-server<3,>=2.4.0->jupyterlab>=3->nglview)\n",
      "  Downloading lark-1.3.0-py3-none-any.whl.metadata (1.8 kB)\n",
      "Collecting cffi>=1.0.1 (from argon2-cffi-bindings->argon2-cffi>=21.1->jupyter-server<3,>=2.4.0->jupyterlab>=3->nglview)\n",
      "  Downloading cffi-2.0.0-cp313-cp313-manylinux2014_x86_64.manylinux_2_17_x86_64.whl.metadata (2.6 kB)\n",
      "Collecting pycparser (from cffi>=1.0.1->argon2-cffi-bindings->argon2-cffi>=21.1->jupyter-server<3,>=2.4.0->jupyterlab>=3->nglview)\n",
      "  Downloading pycparser-2.23-py3-none-any.whl.metadata (993 bytes)\n",
      "Collecting soupsieve>1.2 (from beautifulsoup4->nbconvert>=6.4.4->jupyter-server<3,>=2.4.0->jupyterlab>=3->nglview)\n",
      "  Downloading soupsieve-2.8-py3-none-any.whl.metadata (4.6 kB)\n",
      "Requirement already satisfied: typing-extensions>=4.0.0 in /home/marvin/miniforge3/envs/trabalho_disciplina/lib/python3.13/site-packages (from beautifulsoup4->nbconvert>=6.4.4->jupyter-server<3,>=2.4.0->jupyterlab>=3->nglview) (4.15.0)\n",
      "Collecting arrow>=0.15.0 (from isoduration->jsonschema[format-nongpl]>=4.18.0->jupyter-events>=0.11.0->jupyter-server<3,>=2.4.0->jupyterlab>=3->nglview)\n",
      "  Downloading arrow-1.3.0-py3-none-any.whl.metadata (7.5 kB)\n",
      "Collecting types-python-dateutil>=2.8.10 (from arrow>=0.15.0->isoduration->jsonschema[format-nongpl]>=4.18.0->jupyter-events>=0.11.0->jupyter-server<3,>=2.4.0->jupyterlab>=3->nglview)\n",
      "  Downloading types_python_dateutil-2.9.0.20251008-py3-none-any.whl.metadata (1.8 kB)\n",
      "Requirement already satisfied: executing>=1.2.0 in /home/marvin/miniforge3/envs/trabalho_disciplina/lib/python3.13/site-packages (from stack_data->ipython>=6.1.0->ipywidgets>=8->nglview) (2.2.0)\n",
      "Requirement already satisfied: asttokens>=2.1.0 in /home/marvin/miniforge3/envs/trabalho_disciplina/lib/python3.13/site-packages (from stack_data->ipython>=6.1.0->ipywidgets>=8->nglview) (3.0.0)\n",
      "Requirement already satisfied: pure_eval in /home/marvin/miniforge3/envs/trabalho_disciplina/lib/python3.13/site-packages (from stack_data->ipython>=6.1.0->ipywidgets>=8->nglview) (0.2.3)\n",
      "Downloading numpy-2.2.6-cp313-cp313-manylinux_2_17_x86_64.manylinux2014_x86_64.whl (16.5 MB)\n",
      "\u001b[2K   \u001b[90m━━━━━━━━━━━━━━━━━━━━━━━━━━━━━━━━━━━━━━━━\u001b[0m \u001b[32m16.5/16.5 MB\u001b[0m \u001b[31m12.7 MB/s\u001b[0m  \u001b[33m0:00:01\u001b[0mm0:00:01\u001b[0m00:01\u001b[0m\n",
      "\u001b[?25hDownloading ipywidgets-8.1.7-py3-none-any.whl (139 kB)\n",
      "Downloading jupyterlab_widgets-3.0.15-py3-none-any.whl (216 kB)\n",
      "Downloading widgetsnbextension-4.0.14-py3-none-any.whl (2.2 MB)\n",
      "\u001b[2K   \u001b[90m━━━━━━━━━━━━━━━━━━━━━━━━━━━━━━━━━━━━━━━━\u001b[0m \u001b[32m2.2/2.2 MB\u001b[0m \u001b[31m15.1 MB/s\u001b[0m  \u001b[33m0:00:00\u001b[0m\n",
      "\u001b[?25hDownloading jupyterlab-4.4.9-py3-none-any.whl (12.3 MB)\n",
      "\u001b[2K   \u001b[90m━━━━━━━━━━━━━━━━━━━━━━━━━━━━━━━━━━━━━━━━\u001b[0m \u001b[32m12.3/12.3 MB\u001b[0m \u001b[31m13.5 MB/s\u001b[0m  \u001b[33m0:00:00\u001b[0mm0:00:01\u001b[0m0:01\u001b[0m\n",
      "\u001b[?25hDownloading httpx-0.28.1-py3-none-any.whl (73 kB)\n",
      "Downloading httpcore-1.0.9-py3-none-any.whl (78 kB)\n",
      "Downloading jupyter_server-2.17.0-py3-none-any.whl (388 kB)\n",
      "Downloading jupyterlab_server-2.27.3-py3-none-any.whl (59 kB)\n",
      "Downloading anyio-4.11.0-py3-none-any.whl (109 kB)\n",
      "Downloading argon2_cffi-25.1.0-py3-none-any.whl (14 kB)\n",
      "Downloading async_lru-2.0.5-py3-none-any.whl (6.1 kB)\n",
      "Downloading babel-2.17.0-py3-none-any.whl (10.2 MB)\n",
      "\u001b[2K   \u001b[90m━━━━━━━━━━━━━━━━━━━━━━━━━━━━━━━━━━━━━━━━\u001b[0m \u001b[32m10.2/10.2 MB\u001b[0m \u001b[31m16.7 MB/s\u001b[0m  \u001b[33m0:00:00\u001b[0mm0:00:01\u001b[0m0:01\u001b[0m\n",
      "\u001b[?25hDownloading h11-0.16.0-py3-none-any.whl (37 kB)\n",
      "Downloading jinja2-3.1.6-py3-none-any.whl (134 kB)\n",
      "Downloading json5-0.12.1-py3-none-any.whl (36 kB)\n",
      "Downloading jsonschema-4.25.1-py3-none-any.whl (90 kB)\n",
      "Downloading attrs-25.4.0-py3-none-any.whl (67 kB)\n",
      "Downloading jsonschema_specifications-2025.9.1-py3-none-any.whl (18 kB)\n",
      "Downloading jupyter_events-0.12.0-py3-none-any.whl (19 kB)\n",
      "Downloading jsonpointer-3.0.0-py2.py3-none-any.whl (7.6 kB)\n",
      "Downloading jupyter_lsp-2.3.0-py3-none-any.whl (76 kB)\n",
      "Downloading jupyter_server_terminals-0.5.3-py3-none-any.whl (13 kB)\n",
      "Downloading markupsafe-3.0.3-cp313-cp313-manylinux2014_x86_64.manylinux_2_17_x86_64.manylinux_2_28_x86_64.whl (22 kB)\n",
      "Downloading nbconvert-7.16.6-py3-none-any.whl (258 kB)\n",
      "Downloading mistune-3.1.4-py3-none-any.whl (53 kB)\n",
      "Downloading bleach-6.2.0-py3-none-any.whl (163 kB)\n",
      "Downloading tinycss2-1.4.0-py3-none-any.whl (26 kB)\n",
      "Downloading nbclient-0.10.2-py3-none-any.whl (25 kB)\n",
      "Downloading nbformat-5.10.4-py3-none-any.whl (78 kB)\n",
      "Downloading fastjsonschema-2.21.2-py3-none-any.whl (24 kB)\n",
      "Downloading notebook-7.4.7-py3-none-any.whl (14.3 MB)\n",
      "\u001b[2K   \u001b[90m━━━━━━━━━━━━━━━━━━━━━━━━━━━━━━━━━━━━━━━━\u001b[0m \u001b[32m14.3/14.3 MB\u001b[0m \u001b[31m13.2 MB/s\u001b[0m  \u001b[33m0:00:01\u001b[0m eta \u001b[36m0:00:01\u001b[0m\n",
      "\u001b[?25hDownloading notebook_shim-0.2.4-py3-none-any.whl (13 kB)\n",
      "Downloading pandocfilters-1.5.1-py2.py3-none-any.whl (8.7 kB)\n",
      "Downloading prometheus_client-0.23.1-py3-none-any.whl (61 kB)\n",
      "Downloading python_json_logger-4.0.0-py3-none-any.whl (15 kB)\n",
      "Downloading referencing-0.37.0-py3-none-any.whl (26 kB)\n",
      "Downloading rfc3986_validator-0.1.1-py2.py3-none-any.whl (4.2 kB)\n",
      "Downloading rfc3987_syntax-1.1.0-py3-none-any.whl (8.0 kB)\n",
      "Downloading lark-1.3.0-py3-none-any.whl (113 kB)\n",
      "Downloading rpds_py-0.27.1-cp313-cp313-manylinux_2_17_x86_64.manylinux2014_x86_64.whl (386 kB)\n",
      "Downloading Send2Trash-1.8.3-py3-none-any.whl (18 kB)\n",
      "Using cached setuptools-80.9.0-py3-none-any.whl (1.2 MB)\n",
      "Downloading sniffio-1.3.1-py3-none-any.whl (10 kB)\n",
      "Downloading terminado-0.18.1-py3-none-any.whl (14 kB)\n",
      "Downloading webcolors-24.11.1-py3-none-any.whl (14 kB)\n",
      "Downloading webencodings-0.5.1-py2.py3-none-any.whl (11 kB)\n",
      "Downloading websocket_client-1.9.0-py3-none-any.whl (82 kB)\n",
      "Downloading argon2_cffi_bindings-25.1.0-cp39-abi3-manylinux_2_26_x86_64.manylinux_2_28_x86_64.whl (87 kB)\n",
      "Downloading cffi-2.0.0-cp313-cp313-manylinux2014_x86_64.manylinux_2_17_x86_64.whl (219 kB)\n",
      "Downloading beautifulsoup4-4.14.2-py3-none-any.whl (106 kB)\n",
      "Downloading soupsieve-2.8-py3-none-any.whl (36 kB)\n",
      "Downloading defusedxml-0.7.1-py2.py3-none-any.whl (25 kB)\n",
      "Downloading fqdn-1.5.1-py3-none-any.whl (9.1 kB)\n",
      "Downloading isoduration-20.11.0-py3-none-any.whl (11 kB)\n",
      "Downloading arrow-1.3.0-py3-none-any.whl (66 kB)\n",
      "Downloading types_python_dateutil-2.9.0.20251008-py3-none-any.whl (17 kB)\n",
      "Downloading jupyterlab_pygments-0.3.0-py3-none-any.whl (15 kB)\n",
      "Downloading pycparser-2.23-py3-none-any.whl (118 kB)\n",
      "Downloading rfc3339_validator-0.1.4-py2.py3-none-any.whl (3.5 kB)\n",
      "Downloading uri_template-1.3.0-py3-none-any.whl (11 kB)\n",
      "Building wheels for collected packages: nglview\n",
      "  Building wheel for nglview (pyproject.toml) ... \u001b[?25ldone\n",
      "\u001b[?25h  Created wheel for nglview: filename=nglview-4.0-py3-none-any.whl size=10672271 sha256=16d59ef967ace89e0b8f5abc6d0297fe7f4612cba8dcbad8e29027e1d87f5bc1\n",
      "  Stored in directory: /home/marvin/.cache/pip/wheels/94/94/ad/78e51ee8e5ec026d7bcd742c90ccb188cfba0339efe02bfc29\n",
      "Successfully built nglview\n",
      "Installing collected packages: webencodings, fastjsonschema, widgetsnbextension, websocket-client, webcolors, uri-template, types-python-dateutil, tinycss2, terminado, soupsieve, sniffio, setuptools, send2trash, rpds-py, rfc3986-validator, rfc3339-validator, python-json-logger, pycparser, prometheus-client, pandocfilters, numpy, mistune, MarkupSafe, lark, jupyterlab_widgets, jupyterlab-pygments, jsonpointer, json5, h11, fqdn, defusedxml, bleach, babel, attrs, async-lru, rfc3987-syntax, referencing, jupyter-server-terminals, jinja2, httpcore, cffi, beautifulsoup4, arrow, anyio, jsonschema-specifications, isoduration, ipywidgets, httpx, argon2-cffi-bindings, jsonschema, argon2-cffi, nbformat, nbclient, jupyter-events, nbconvert, jupyter-server, notebook-shim, jupyterlab-server, jupyter-lsp, jupyterlab, notebook, nglview\n",
      "\u001b[2K  Attempting uninstall: numpy[0m\u001b[90m━━━━━━━━━━━━━━━━━━━━━━━━━━━━━\u001b[0m \u001b[32m17/62\u001b[0m [pycparser]]lient]\n",
      "\u001b[2K    Found existing installation: numpy 2.3.2━━━━━━━━━━━━━━━━━━\u001b[0m \u001b[32m17/62\u001b[0m [pycparser]\n",
      "\u001b[2K    Uninstalling numpy-2.3.2:[90m━━━━━━━━━━━━━━━━━━━━━━━━━━━━━\u001b[0m \u001b[32m17/62\u001b[0m [pycparser]\n",
      "\u001b[2K      Successfully uninstalled numpy-2.3.2━━━━━━━━━━━━━━━━━━━━\u001b[0m \u001b[32m17/62\u001b[0m [pycparser]\n",
      "\u001b[2K   \u001b[90m━━━━━━━━━━━━━━━━━━━━━━━━━━━━━━━━━━━━━━━━\u001b[0m \u001b[32m62/62\u001b[0m [nglview][nglview][notebook]b]]er]dings]als]\n",
      "\u001b[1A\u001b[2KSuccessfully installed MarkupSafe-3.0.3 anyio-4.11.0 argon2-cffi-25.1.0 argon2-cffi-bindings-25.1.0 arrow-1.3.0 async-lru-2.0.5 attrs-25.4.0 babel-2.17.0 beautifulsoup4-4.14.2 bleach-6.2.0 cffi-2.0.0 defusedxml-0.7.1 fastjsonschema-2.21.2 fqdn-1.5.1 h11-0.16.0 httpcore-1.0.9 httpx-0.28.1 ipywidgets-8.1.7 isoduration-20.11.0 jinja2-3.1.6 json5-0.12.1 jsonpointer-3.0.0 jsonschema-4.25.1 jsonschema-specifications-2025.9.1 jupyter-events-0.12.0 jupyter-lsp-2.3.0 jupyter-server-2.17.0 jupyter-server-terminals-0.5.3 jupyterlab-4.4.9 jupyterlab-pygments-0.3.0 jupyterlab-server-2.27.3 jupyterlab_widgets-3.0.15 lark-1.3.0 mistune-3.1.4 nbclient-0.10.2 nbconvert-7.16.6 nbformat-5.10.4 nglview-4.0 notebook-7.4.7 notebook-shim-0.2.4 numpy-2.2.6 pandocfilters-1.5.1 prometheus-client-0.23.1 pycparser-2.23 python-json-logger-4.0.0 referencing-0.37.0 rfc3339-validator-0.1.4 rfc3986-validator-0.1.1 rfc3987-syntax-1.1.0 rpds-py-0.27.1 send2trash-1.8.3 setuptools-80.9.0 sniffio-1.3.1 soupsieve-2.8 terminado-0.18.1 tinycss2-1.4.0 types-python-dateutil-2.9.0.20251008 uri-template-1.3.0 webcolors-24.11.1 webencodings-0.5.1 websocket-client-1.9.0 widgetsnbextension-4.0.14\n"
     ]
    }
   ],
   "source": [
    "!pip install nglview"
   ]
  },
  {
   "cell_type": "code",
   "execution_count": 2,
   "id": "fbb4801e",
   "metadata": {},
   "outputs": [
    {
     "data": {
      "application/vnd.jupyter.widget-view+json": {
       "model_id": "17de5823b38049ef9f7620412bda807c",
       "version_major": 2,
       "version_minor": 0
      },
      "text/plain": []
     },
     "metadata": {},
     "output_type": "display_data"
    }
   ],
   "source": [
    "import os\n",
    "# Definindo o path para os arquivos de potencial de pseudopotenciais do VASP\n",
    "# Certifique-se de que o caminho esteja correto para o seu sistema\n",
    "os.environ['VASP_PP_PATH'] = '/home/marvin/Programs/vasp-6.5.1/pp'\n",
    "os.environ['ASE_VASP_COMMAND'] = 'mpirun -np 1 vasp_std_gpu'\n",
    "os.environ['NO_STOP_MESSAGE'] = '1' # to avoid warning from mpirun\n",
    "\n",
    "# Importando o VASP calculator do ASE\n",
    "from ase.calculators.vasp import Vasp\n",
    "\n",
    "from ase import Atoms\n",
    "from ase.io import write, read\n",
    "from ase.visualize import view\n",
    "\n",
    "import nglview as nv\n",
    "\n",
    "import numpy as np"
   ]
  },
  {
   "cell_type": "markdown",
   "id": "62c59185",
   "metadata": {},
   "source": [
    "## Cálculo dos Modos Vibracionais "
   ]
  },
  {
   "cell_type": "code",
   "execution_count": 3,
   "id": "06acd055",
   "metadata": {},
   "outputs": [],
   "source": [
    "# 1. Define H2O molecule\n",
    "h2o = Atoms('H2O',\n",
    "            positions=[[0.000, 0.000, 0.000],\n",
    "                       [0.757, 0.586, 0.000],\n",
    "                       [-0.757, 0.586, 0.000]])\n",
    "\n",
    "h2o.center(vacuum=5.0)  # Center the molecule in the cell\n",
    "h2o.pbc = True"
   ]
  },
  {
   "cell_type": "markdown",
   "id": "62901534",
   "metadata": {},
   "source": [
    "### Passo 1: Otimização da Geometria da Molécula "
   ]
  },
  {
   "cell_type": "code",
   "execution_count": 4,
   "id": "304c2774",
   "metadata": {},
   "outputs": [],
   "source": [
    "# 2. Geometry optimization first\n",
    "calc_relax = Vasp(\n",
    "    directory='h2o_opt',\n",
    "    xc='PBE',\n",
    "    encut=450,\n",
    "    ismear=0, sigma=0.05,\n",
    "    ediff=1e-6, ediffg=-0.01,\n",
    "    isif=2, ibrion=2, nsw=100,\n",
    "    nelm=100,\n",
    "    lwave=True, lcharg=True, lvtot=True,\n",
    "    atoms=h2o\n",
    ")\n",
    "calc_relax.calculate(h2o)"
   ]
  },
  {
   "cell_type": "markdown",
   "id": "05ee5449",
   "metadata": {},
   "source": [
    "Demorou 48 s"
   ]
  },
  {
   "cell_type": "code",
   "execution_count": 5,
   "id": "2166223f",
   "metadata": {},
   "outputs": [
    {
     "name": "stdout",
     "output_type": "stream",
     "text": [
      "Optimized energy of H2O: -14.21918002 eV\n"
     ]
    }
   ],
   "source": [
    "E_0_h2o = h2o.get_potential_energy()\n",
    "\n",
    "print(f'Optimized energy of H2O: {E_0_h2o} eV')"
   ]
  },
  {
   "cell_type": "markdown",
   "id": "bb2064e9",
   "metadata": {},
   "source": [
    "### Passo 2: Cálculo de DFTPT para Hessiana"
   ]
  },
  {
   "cell_type": "code",
   "execution_count": 6,
   "id": "e309cec7",
   "metadata": {},
   "outputs": [],
   "source": [
    "# 3. dftpt vibrational calculation (uses linear response)\n",
    "calc_vib = Vasp(\n",
    "    directory='h2o_dftpt',\n",
    "    xc='PBE',\n",
    "    encut=450,\n",
    "    ismear=0, sigma=0.05,\n",
    "    ediff=1e-8,\n",
    "    ibrion=8,           # dftpt for vibrational analysis\n",
    "    nfree=2,            # Central difference (default)\n",
    "    lepsilon=True,      # Compute Born charges and dielectric tensor\n",
    "    lreal=False,\n",
    "    lwave=False, lcharg=False,\n",
    "    atoms=h2o\n",
    ")\n",
    "\n",
    "calc_vib.calculate(h2o)"
   ]
  },
  {
   "cell_type": "markdown",
   "id": "bafa131c",
   "metadata": {},
   "source": [
    "Demorou 2m 43 s"
   ]
  },
  {
   "cell_type": "markdown",
   "id": "cc5b4504",
   "metadata": {},
   "source": [
    "### Passo 3: Cálculo das frequências e das energias a partir da Hessiana"
   ]
  },
  {
   "cell_type": "markdown",
   "id": "e02a2af9",
   "metadata": {},
   "source": [
    "Re-lendo cálculo já realizado"
   ]
  },
  {
   "cell_type": "code",
   "execution_count": 7,
   "id": "09001d2b",
   "metadata": {},
   "outputs": [],
   "source": [
    "calc_vib = Vasp(restart=True,directory='h2o_dftpt')"
   ]
  },
  {
   "cell_type": "markdown",
   "id": "9d207db0",
   "metadata": {},
   "source": [
    "Lendo os dados de vibração a partir da matriz Hessiana"
   ]
  },
  {
   "cell_type": "code",
   "execution_count": 8,
   "id": "fa8dc72b",
   "metadata": {},
   "outputs": [
    {
     "name": "stdout",
     "output_type": "stream",
     "text": [
      "Mode 0: 0.00 cm-1 (real), 104.25 cm-1 (imaginary)\n",
      "Mode 1: 0.00 cm-1 (real), 80.01 cm-1 (imaginary)\n",
      "Mode 2: 0.00 cm-1 (real), 32.48 cm-1 (imaginary)\n",
      "Mode 3: 0.00 cm-1 (real), 0.36 cm-1 (imaginary)\n",
      "Mode 4: 35.92 cm-1 (real), 0.00 cm-1 (imaginary)\n",
      "Mode 5: 45.90 cm-1 (real), 0.00 cm-1 (imaginary)\n",
      "Mode 6: 1586.33 cm-1 (real), 0.00 cm-1 (imaginary)\n",
      "Mode 7: 3727.61 cm-1 (real), 0.00 cm-1 (imaginary)\n",
      "Mode 8: 3840.41 cm-1 (real), 0.00 cm-1 (imaginary)\n"
     ]
    }
   ],
   "source": [
    "vib_water = calc_vib.get_vibrations()\n",
    "\n",
    "# Frequencies (cm⁻¹)\n",
    "freqs = vib_water.get_frequencies()\n",
    "\n",
    "# All displacement vectors (n_modes, n_atoms, 3)\n",
    "modes = vib_water.get_modes()\n",
    "\n",
    "for i, f in enumerate(freqs):\n",
    "    # write frequencies in cm-1 separeting the real and imaginary parts\n",
    "    print(f\"Mode {i:01d}: {f.real:.2f} cm-1 (real), {f.imag:.2f} cm-1 (imaginary)\")"
   ]
  },
  {
   "cell_type": "markdown",
   "id": "26175f28",
   "metadata": {},
   "source": [
    "### Passo 4 (opcional): Exporta os arquivos de trajetória dos modos vibracionais "
   ]
  },
  {
   "cell_type": "code",
   "execution_count": 9,
   "id": "5001617a",
   "metadata": {},
   "outputs": [
    {
     "name": "stdout",
     "output_type": "stream",
     "text": [
      "Mode 6: 1586.33 cm-1 = 196.67 meV\n",
      "Mode 7: 3727.61 cm-1 = 462.15 meV\n",
      "Mode 8: 3840.41 cm-1 = 476.13 meV\n",
      "✅ All vibrational modes exported in water_vib_modes\n"
     ]
    }
   ],
   "source": [
    "# Get equilibrium geometry \n",
    "atoms_eq = vib_water.get_atoms()\n",
    "\n",
    "# --- Loop over all modes to generate trajectories ---\n",
    "amp = 0.2           # Å: visualization amplitude (not physical)\n",
    "n_cycles = 5        # number of oscillations you want\n",
    "n_frames = 50      # total number of frames (smooth animation)\n",
    "\n",
    "# --- Create output directory ---\n",
    "directory = \"water_vib_modes\"\n",
    "os.makedirs(directory, exist_ok=True)\n",
    "\n",
    "for i, f in enumerate(freqs):\n",
    "    # Skip imaginary and near-zero modes\n",
    "    if f.imag != 0 or abs(f.real) < 50.0:\n",
    "        continue\n",
    "\n",
    "    mode = modes[i]\n",
    "    frames = []\n",
    "    for j in range(n_frames):\n",
    "        phase = 2 * np.pi * n_cycles * j / n_frames\n",
    "        atoms = atoms_eq.copy()\n",
    "        atoms.positions += amp * np.sin(phase) * mode\n",
    "        frames.append(atoms)\n",
    "\n",
    "    fname = directory+f\"/mode_{i:01d}.traj\"\n",
    "    write(fname, frames)\n",
    "    print(f\"Mode {i:01d}: {f.real:.2f} cm-1 = {f.real*0.12398:.2f} meV\")\n",
    "\n",
    "print(f\"✅ All vibrational modes exported in {directory}\")"
   ]
  },
  {
   "cell_type": "code",
   "execution_count": 10,
   "id": "8edca205",
   "metadata": {},
   "outputs": [
    {
     "data": {
      "application/vnd.jupyter.widget-view+json": {
       "model_id": "7f65a843b97442be8245e5c374ad8129",
       "version_major": 2,
       "version_minor": 0
      },
      "text/plain": [
       "NGLWidget(max_frame=49)"
      ]
     },
     "metadata": {},
     "output_type": "display_data"
    }
   ],
   "source": [
    "# Load the vibrational trajectory file\n",
    "traj = read(directory+'/mode_6.traj', index=':')\n",
    "\n",
    "# Create NGLView widget\n",
    "w = nv.show_asetraj(traj)\n",
    "w.add_ball_and_stick()\n",
    "\n",
    "w"
   ]
  },
  {
   "cell_type": "markdown",
   "id": "ee171ce2",
   "metadata": {},
   "source": [
    "## Cálculo de ZVPE"
   ]
  },
  {
   "cell_type": "markdown",
   "id": "902ac2f6",
   "metadata": {},
   "source": [
    "### Passo 1: Calcula as energias vibracionais a partir das frequências de vibração\n",
    "\n",
    "$ E = h \\nu$"
   ]
  },
  {
   "cell_type": "code",
   "execution_count": 11,
   "id": "3d356619",
   "metadata": {},
   "outputs": [
    {
     "name": "stdout",
     "output_type": "stream",
     "text": [
      "Mode 6: 0.197 eV\n",
      "Mode 7: 0.462 eV\n",
      "Mode 8: 0.476 eV\n"
     ]
    }
   ],
   "source": [
    "# convert cm^{-1} to eV\n",
    "h = 4.1356675e-15 # eV*s\n",
    "c = 3.0e10 #cm/s\n",
    "vib_energies_h2o = []\n",
    "for i,f in enumerate(freqs):\n",
    "    if f.imag != 0 or abs(f.real) < 50.0:\n",
    "        continue\n",
    "\n",
    "    e = h*c*f.real\n",
    "    vib_energies_h2o.append(e)\n",
    "    print(f'Mode {i:01d}: {e:<.3f} eV')"
   ]
  },
  {
   "cell_type": "markdown",
   "id": "d485f4ac",
   "metadata": {},
   "source": [
    "### Passo 2: Calcula o ZPVE\n",
    "$ZVPE = \\sum_{v=1}^{\\text{modos de vibração}} \\frac{1}{2} h \\nu_v$"
   ]
  },
  {
   "cell_type": "code",
   "execution_count": null,
   "id": "1d896ed4",
   "metadata": {},
   "outputs": [
    {
     "name": "stdout",
     "output_type": "stream",
     "text": [
      "Zero-point energy (ZPE) of H2O: 0.568 eV\n"
     ]
    }
   ],
   "source": [
    "ZPE_h2o = 0.5 * sum(vib_energies_h2o)\n",
    "print(f'zero-point energy (ZPE) of H2O: {ZPE_h2o:.3f} eV')"
   ]
  },
  {
   "cell_type": "markdown",
   "id": "24c5b3a7",
   "metadata": {},
   "source": [
    "## Cálculo de Qtds Termodinâmicas"
   ]
  },
  {
   "cell_type": "markdown",
   "id": "1468a430",
   "metadata": {},
   "source": [
    "Usando função `IdealGasThermo` do `ASE` facilita nossa vida!"
   ]
  },
  {
   "cell_type": "code",
   "execution_count": 13,
   "id": "839718c6",
   "metadata": {},
   "outputs": [],
   "source": [
    "from ase.thermochemistry import IdealGasThermo\n",
    "\n",
    "h2o_thermo = IdealGasThermo(vib_energies=vib_energies_h2o,\n",
    "                        potentialenergy=E_0_h2o, atoms=h2o,\n",
    "                        geometry='nonlinear', symmetrynumber=2, spin=0)"
   ]
  },
  {
   "cell_type": "markdown",
   "id": "9124ba22",
   "metadata": {},
   "source": [
    "`symmetrynumber`: Table 10.1 and\n",
    "        Appendix B of C. Cramer \"Essentials of Computational Chemistry\",\n",
    "        2nd Ed"
   ]
  },
  {
   "cell_type": "code",
   "execution_count": 14,
   "id": "b863529a",
   "metadata": {},
   "outputs": [
    {
     "name": "stdout",
     "output_type": "stream",
     "text": [
      "Enthalpy components at T = 298.15 K:\n",
      "===============================\n",
      "E_pot                -14.219 eV\n",
      "E_ZPE                  0.568 eV\n",
      "Cv_trans (0->T)        0.039 eV\n",
      "Cv_rot (0->T)          0.039 eV\n",
      "Cv_vib (0->T)          0.000 eV\n",
      "(C_v -> C_p)           0.026 eV\n",
      "-------------------------------\n",
      "H                    -13.548 eV\n",
      "===============================\n",
      "\n",
      "Entropy components at T = 298.15 K and P = 100000.0 Pa:\n",
      "=================================================\n",
      "                           S               T*S\n",
      "S_trans (1 bar)    0.0015019 eV/K        0.448 eV\n",
      "S_rot              0.0004570 eV/K        0.136 eV\n",
      "S_elec             0.0000000 eV/K        0.000 eV\n",
      "S_vib              0.0000004 eV/K        0.000 eV\n",
      "S (1 bar -> P)    -0.0000000 eV/K       -0.000 eV\n",
      "-------------------------------------------------\n",
      "S                  0.0019593 eV/K        0.584 eV\n",
      "=================================================\n",
      "\n",
      "Free energy components at T = 298.15 K and P = 100000.0 Pa:\n",
      "=======================\n",
      "    H        -13.548 eV\n",
      " -T*S         -0.584 eV\n",
      "-----------------------\n",
      "    G        -14.133 eV\n",
      "=======================\n"
     ]
    }
   ],
   "source": [
    "# temperature in K and pressure in Pa\n",
    "G_h2o = h2o_thermo.get_gibbs_energy(temperature=298.15, pressure=1e5)"
   ]
  },
  {
   "cell_type": "markdown",
   "id": "b6dd9719",
   "metadata": {},
   "source": [
    "> DPL: Diversão para o Lar\n",
    "> \n",
    "> 📝 Repita os procedimentos acima agora para a molécula de CO_2.\n",
    ">  \n",
    "> Atente para a geometria linear da molécula e seu grupo de simetria. \n",
    "> \n",
    "> "
   ]
  },
  {
   "cell_type": "code",
   "execution_count": null,
   "id": "2228954d",
   "metadata": {},
   "outputs": [],
   "source": []
  }
 ],
 "metadata": {
  "kernelspec": {
   "display_name": "trabalho_disciplina",
   "language": "python",
   "name": "python3"
  },
  "language_info": {
   "codemirror_mode": {
    "name": "ipython",
    "version": 3
   },
   "file_extension": ".py",
   "mimetype": "text/x-python",
   "name": "python",
   "nbconvert_exporter": "python",
   "pygments_lexer": "ipython3",
   "version": "3.13.5"
  }
 },
 "nbformat": 4,
 "nbformat_minor": 5
}
